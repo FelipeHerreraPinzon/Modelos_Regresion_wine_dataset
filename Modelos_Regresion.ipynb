{
  "cells": [
    {
      "cell_type": "code",
      "execution_count": 2,
      "metadata": {
        "colab": {
          "base_uri": "https://localhost:8080/"
        },
        "id": "atiqxGKiSnD8",
        "outputId": "b1818b68-97c5-4e0f-b950-80656da132b6"
      },
      "outputs": [
        {
          "output_type": "stream",
          "name": "stdout",
          "text": [
            "Precisión del modelo k-NN: 0.7037037037037037\n"
          ]
        }
      ],
      "source": [
        "import pandas as pd\n",
        "from sklearn.model_selection import train_test_split\n",
        "from sklearn.neighbors import KNeighborsClassifier\n",
        "from sklearn.metrics import accuracy_score\n",
        "\n",
        "\n",
        "# Dividir los datos en características (X) y etiquetas (y)\n",
        "X = pd.read_csv('X_train.csv').values\n",
        "y = pd.read_csv('y_train.csv').values.ravel()\n",
        "\n",
        "# Dividir el conjunto de datos en entrenamiento y prueba\n",
        "X_train, X_test, y_train, y_test = train_test_split(X, y, test_size=0.2, random_state=42)\n",
        "\n",
        "# Crear un clasificador k-NN\n",
        "knn_classifier = KNeighborsClassifier(n_neighbors=10) #10 vecinos\n",
        "\n",
        "# Entrenar el clasificador con el conjunto de entrenamiento\n",
        "knn_classifier.fit(X_train, y_train)\n",
        "\n",
        "# Predecir las etiquetas del conjunto de prueba\n",
        "y_pred = knn_classifier.predict(X_test)\n",
        "\n",
        "accuracy = accuracy_score(y_test, y_pred)\n",
        "print(\"Precisión del modelo k-NN:\", accuracy)\n"
      ]
    },
    {
      "cell_type": "code",
      "execution_count": 3,
      "metadata": {
        "colab": {
          "base_uri": "https://localhost:8080/"
        },
        "id": "sm_LlWD8WHT7",
        "outputId": "92508d69-6818-4e94-e49c-3b859367bd47"
      },
      "outputs": [
        {
          "output_type": "stream",
          "name": "stdout",
          "text": [
            "Precisión del modelo de árbol de decisión: 1.0\n"
          ]
        }
      ],
      "source": [
        "from sklearn import tree\n",
        "# Dividir los datos en características (X) y etiquetas (y)\n",
        "X = pd.read_csv('X_train.csv').values\n",
        "y = pd.read_csv('y_train.csv').values.ravel()\n",
        "clf = tree.DecisionTreeClassifier()\n",
        "clf = clf.fit(X, y)\n",
        "\n",
        "import numpy as np\n",
        "import pandas as pd\n",
        "from sklearn import tree\n",
        "from sklearn.metrics import accuracy_score\n",
        "\n",
        "# Dividir los datos en características (X) y etiquetas (y)\n",
        "X = pd.read_csv('X_train.csv').values\n",
        "y = pd.read_csv('y_train.csv').values\n",
        "\n",
        "# Crear el clasificador de árbol de decisión\n",
        "clf = tree.DecisionTreeClassifier()\n",
        "\n",
        "# Entrenar el clasificador de árbol de decisión\n",
        "clf = clf.fit(X, y)\n",
        "\n",
        "# Predecir las etiquetas del conjunto de entrenamiento\n",
        "y_pred = clf.predict(X)\n",
        "\n",
        "# Calcular la precisión del modelo\n",
        "accuracy = accuracy_score(y, y_pred)\n",
        "print(\"Precisión del modelo de árbol de decisión:\", accuracy)\n"
      ]
    },
    {
      "cell_type": "code",
      "execution_count": 9,
      "metadata": {
        "colab": {
          "base_uri": "https://localhost:8080/"
        },
        "id": "Z12Kvx6vYKiM",
        "outputId": "22e0c9bb-cd93-4ed3-8a8c-c04407eb97cf"
      },
      "outputs": [
        {
          "output_type": "stream",
          "name": "stdout",
          "text": [
            "Precisión del modelo SVM: 0.7037037037037037\n"
          ]
        }
      ],
      "source": [
        "from sklearn import svm\n",
        "from sklearn.model_selection import train_test_split\n",
        "from sklearn.metrics import accuracy_score\n",
        "import pandas as pd\n",
        "\n",
        "# Cargar los datos de características (X) y etiquetas (y)\n",
        "X = pd.read_csv('X_train.csv').values\n",
        "y = pd.read_csv('y_train.csv').values.ravel()\n",
        "\n",
        "\n",
        "# Dividir los datos en conjuntos de entrenamiento y prueba\n",
        "X_train, X_test, y_train, y_test = train_test_split(X, y, test_size=0.2, random_state=42)\n",
        "\n",
        "# Crear el clasificador SVM\n",
        "clf = svm.SVC()\n",
        "\n",
        "# Entrenar el clasificador con el conjunto de entrenamiento\n",
        "clf.fit(X_train, y_train)\n",
        "\n",
        "# Predecir las etiquetas del conjunto de prueba\n",
        "y_pred = clf.predict(X_test)\n",
        "\n",
        "# Calcular la precisión del modelo\n",
        "accuracy = accuracy_score(y_test, y_pred)\n",
        "\n",
        "print(\"Precisión del modelo SVM:\", accuracy)\n"
      ]
    },
    {
      "cell_type": "code",
      "execution_count": 7,
      "metadata": {
        "colab": {
          "base_uri": "https://localhost:8080/"
        },
        "id": "dxEs-10dY_Sw",
        "outputId": "3962ee4f-d9fa-46ab-b131-c8dd43c25c18"
      },
      "outputs": [
        {
          "output_type": "stream",
          "name": "stdout",
          "text": [
            "Precisión del modelo de regresión logística: 0.9259259259259259\n"
          ]
        },
        {
          "output_type": "stream",
          "name": "stderr",
          "text": [
            "/usr/local/lib/python3.10/dist-packages/sklearn/linear_model/_logistic.py:458: ConvergenceWarning: lbfgs failed to converge (status=1):\n",
            "STOP: TOTAL NO. of ITERATIONS REACHED LIMIT.\n",
            "\n",
            "Increase the number of iterations (max_iter) or scale the data as shown in:\n",
            "    https://scikit-learn.org/stable/modules/preprocessing.html\n",
            "Please also refer to the documentation for alternative solver options:\n",
            "    https://scikit-learn.org/stable/modules/linear_model.html#logistic-regression\n",
            "  n_iter_i = _check_optimize_result(\n"
          ]
        }
      ],
      "source": [
        "from sklearn.linear_model import LogisticRegression\n",
        "from sklearn.model_selection import train_test_split\n",
        "from sklearn.metrics import accuracy_score\n",
        "import pandas as pd\n",
        "\n",
        "# Cargar los datos de características (X) y etiquetas (y)\n",
        "X = pd.read_csv('X_train.csv').values\n",
        "y = pd.read_csv('y_train.csv').values.ravel()\n",
        "\n",
        "# Dividir los datos en conjuntos de entrenamiento y prueba\n",
        "X_train, X_test, y_train, y_test = train_test_split(X, y, test_size=0.2, random_state=42)\n",
        "\n",
        "# Crear el clasificador de regresión logística con parámetros adicionales\n",
        "logistic_classifier = LogisticRegression(max_iter=1000)\n",
        "\n",
        "# Entrenar el clasificador con el conjunto de entrenamiento\n",
        "logistic_classifier.fit(X_train, y_train)\n",
        "\n",
        "# Predecir las etiquetas del conjunto de prueba\n",
        "y_pred = logistic_classifier.predict(X_test)\n",
        "\n",
        "# Calcular la precisión del modelo\n",
        "accuracy = accuracy_score(y_test, y_pred)\n",
        "\n",
        "#print(\"Predicciones:\", y_pred)\n",
        "print(\"Precisión del modelo de regresión logística:\", accuracy)\n",
        "\n"
      ]
    },
    {
      "cell_type": "code",
      "execution_count": 6,
      "metadata": {
        "colab": {
          "base_uri": "https://localhost:8080/"
        },
        "id": "ryT_Ba-Halge",
        "outputId": "1267323f-fe45-4c8d-d7de-bd275eb91075"
      },
      "outputs": [
        {
          "output_type": "stream",
          "name": "stdout",
          "text": [
            "Predicciones: [1 2 3 2 1 2 3 2 1 1 2 1 1 1 2 2 2 2 2 1 2 2 2 3 2 3 1]\n",
            "Precisión del modelo Random Forest: 0.9629629629629629\n"
          ]
        }
      ],
      "source": [
        "from sklearn.ensemble import RandomForestClassifier\n",
        "from sklearn.model_selection import train_test_split\n",
        "from sklearn.metrics import accuracy_score\n",
        "import pandas as pd\n",
        "\n",
        "# Cargar los datos de características (X) y etiquetas (y)\n",
        "X = pd.read_csv('X_train.csv').values\n",
        "y = pd.read_csv('y_train.csv').values.ravel()\n",
        "\n",
        "# Dividir los datos en conjuntos de entrenamiento y prueba\n",
        "X_train, X_test, y_train, y_test = train_test_split(X, y, test_size=0.2, random_state=42)\n",
        "\n",
        "# Crear el clasificador Random Forest\n",
        "random_forest_classifier = RandomForestClassifier()\n",
        "\n",
        "# Entrenar el clasificador con el conjunto de entrenamiento\n",
        "random_forest_classifier.fit(X_train, y_train)\n",
        "\n",
        "# Predecir las etiquetas del conjunto de prueba\n",
        "y_pred = random_forest_classifier.predict(X_test)\n",
        "\n",
        "# Calcular la precisión del modelo\n",
        "accuracy = accuracy_score(y_test, y_pred)\n",
        "\n",
        "print(\"Predicciones:\", y_pred)\n",
        "print(\"Precisión del modelo Random Forest:\", accuracy)\n"
      ]
    },
    {
      "cell_type": "code",
      "execution_count": null,
      "metadata": {
        "colab": {
          "background_save": true
        },
        "id": "NcJJJILdcDn7"
      },
      "outputs": [],
      "source": [
        "import pickle\n",
        "\n",
        "# Guardar el modelo en un archivo usando pickle\n",
        "with open('knn_classifier.pkl', 'wb') as archivo:\n",
        "    pickle.dump(knn_classifier, archivo)\n"
      ]
    },
    {
      "cell_type": "code",
      "execution_count": null,
      "metadata": {
        "id": "rO8IkPrHcsZj"
      },
      "outputs": [],
      "source": []
    }
  ],
  "metadata": {
    "colab": {
      "provenance": []
    },
    "kernelspec": {
      "display_name": "Python 3",
      "name": "python3"
    },
    "language_info": {
      "name": "python"
    }
  },
  "nbformat": 4,
  "nbformat_minor": 0
}